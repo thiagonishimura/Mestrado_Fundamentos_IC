{
  "nbformat": 4,
  "nbformat_minor": 0,
  "metadata": {
    "colab": {
      "provenance": [],
      "authorship_tag": "ABX9TyM8p4HHRHO4BuN0HZPd6EcR",
      "include_colab_link": true
    },
    "kernelspec": {
      "name": "python3",
      "display_name": "Python 3"
    },
    "language_info": {
      "name": "python"
    }
  },
  "cells": [
    {
      "cell_type": "markdown",
      "metadata": {
        "id": "view-in-github",
        "colab_type": "text"
      },
      "source": [
        "<a href=\"https://colab.research.google.com/github/thiagonishimura/Mestrado_Fundamentos_IC/blob/main/Thiago_Atividade_3.ipynb\" target=\"_parent\"><img src=\"https://colab.research.google.com/assets/colab-badge.svg\" alt=\"Open In Colab\"/></a>"
      ]
    },
    {
      "cell_type": "markdown",
      "source": [
        "# **Atividade 3**\n",
        "**Sample distribution and sampling distribution | TLC | p-value**"
      ],
      "metadata": {
        "id": "ozf9k7GvRYJc"
      }
    },
    {
      "cell_type": "code",
      "execution_count": null,
      "metadata": {
        "id": "LlwJJKjMRSBk"
      },
      "outputs": [],
      "source": []
    }
  ]
}